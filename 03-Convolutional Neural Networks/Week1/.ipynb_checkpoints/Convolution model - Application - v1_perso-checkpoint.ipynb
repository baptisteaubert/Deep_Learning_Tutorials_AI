{
 "cells": [
  {
   "cell_type": "markdown",
   "metadata": {},
   "source": [
    "# Convolutional Neural Networks: Application\n",
    "\n",
    "Welcome to Course 4's second assignment! In this notebook, you will:\n",
    "\n",
    "- Implement helper functions that you will use when implementing a TensorFlow model\n",
    "- Implement a fully functioning ConvNet using TensorFlow \n",
    "\n",
    "**After this assignment you will be able to:**\n",
    "\n",
    "- Build and train a ConvNet in TensorFlow for a classification problem \n",
    "\n",
    "We assume here that you are already familiar with TensorFlow. If you are not, please refer the *TensorFlow Tutorial* of the third week of Course 2 (\"*Improving deep neural networks*\")."
   ]
  },
  {
   "cell_type": "markdown",
   "metadata": {},
   "source": [
    "## 1.0 - TensorFlow model\n",
    "\n",
    "In the previous assignment, you built helper functions using numpy to understand the mechanics behind convolutional neural networks. Most practical applications of deep learning today are built using programming frameworks, which have many built-in functions you can simply call. \n",
    "\n",
    "As usual, we will start by loading in the packages. "
   ]
  },
  {
   "cell_type": "code",
   "execution_count": 2,
   "metadata": {},
   "outputs": [
    {
     "name": "stderr",
     "output_type": "stream",
     "text": [
      "/Users/baptisteaubert/Environments/Py3_Deep_Learning/lib/python3.6/site-packages/h5py/__init__.py:36: FutureWarning: Conversion of the second argument of issubdtype from `float` to `np.floating` is deprecated. In future, it will be treated as `np.float64 == np.dtype(float).type`.\n",
      "  from ._conv import register_converters as _register_converters\n"
     ]
    }
   ],
   "source": [
    "import math\n",
    "import numpy as np\n",
    "import h5py\n",
    "import matplotlib.pyplot as plt\n",
    "import scipy\n",
    "from PIL import Image\n",
    "from scipy import ndimage\n",
    "import tensorflow as tf\n",
    "from tensorflow.python.framework import ops\n",
    "from cnn_utils import *\n",
    "\n",
    "%matplotlib inline\n",
    "np.random.seed(1)"
   ]
  },
  {
   "cell_type": "markdown",
   "metadata": {},
   "source": [
    "Run the next cell to load the \"SIGNS\" dataset you are going to use."
   ]
  },
  {
   "cell_type": "code",
   "execution_count": 3,
   "metadata": {},
   "outputs": [],
   "source": [
    "# Loading the data (signs)\n",
    "X_train_orig, Y_train_orig, X_test_orig, Y_test_orig, classes = load_dataset()"
   ]
  },
  {
   "cell_type": "code",
   "execution_count": 4,
   "metadata": {},
   "outputs": [
    {
     "name": "stdout",
     "output_type": "stream",
     "text": [
      "(1080, 64, 64, 3)\n",
      "(120, 64, 64, 3)\n",
      "(1, 1080)\n",
      "(1, 120)\n"
     ]
    }
   ],
   "source": [
    "def one_hot_encoder(Y,C):\n",
    "    return np.eye(C)[Y.reshape(-1)]\n",
    "Y_train, Y_test = one_hot_encoder(Y_train_orig,6), one_hot_encoder(Y_test_orig,6)\n",
    "X_train = X_train_orig/255.\n",
    "X_test = X_test_orig/255.\n",
    "print(X_train_orig.shape)\n",
    "print(X_test_orig.shape)\n",
    "print(Y_train_orig.shape)\n",
    "print(Y_test_orig.shape)\n"
   ]
  },
  {
   "cell_type": "code",
   "execution_count": 5,
   "metadata": {},
   "outputs": [],
   "source": [
    "def create_placeholders(n_Ho, n_Wo, n_Co, n_Y):\n",
    "    X = tf.placeholder(tf.float32,shape=[None,n_Ho, n_Wo, n_Co])\n",
    "    Y = tf.placeholder(tf.float32, shape=[None, n_Y])\n",
    "    return X,Y"
   ]
  },
  {
   "cell_type": "code",
   "execution_count": 5,
   "metadata": {},
   "outputs": [
    {
     "name": "stdout",
     "output_type": "stream",
     "text": [
      "Tensor(\"Placeholder:0\", shape=(?, 64, 64, 3), dtype=float32)\n",
      "Tensor(\"Placeholder_1:0\", shape=(?, 6), dtype=float32)\n"
     ]
    }
   ],
   "source": [
    "X,Y = create_placeholders(64, 64, 3,6)\n",
    "print(str(X) + '\\n' +str(Y))"
   ]
  },
  {
   "cell_type": "code",
   "execution_count": 6,
   "metadata": {},
   "outputs": [],
   "source": [
    "def initialize_parameters():\n",
    "    W1 = tf.get_variable('W1', [4,4,3,8], initializer=tf.contrib.layers.xavier_initializer())\n",
    "    W2 = tf.get_variable('W2', [2,2,8,16], initializer=tf.contrib.layers.xavier_initializer())\n",
    "    \n",
    "    parameters = {'W1':W1, 'W2':W2}\n",
    "    return parameters"
   ]
  },
  {
   "cell_type": "code",
   "execution_count": 7,
   "metadata": {},
   "outputs": [],
   "source": [
    "def forward_propagation(X,parameters):\n",
    "    \n",
    "    W1 = parameters['W1']\n",
    "    W2 = parameters['W2']\n",
    "    \n",
    "    Z1 = tf.nn.conv2d(X, W1, strides=[1,1,1,1], padding='SAME')\n",
    "    A1 = tf.nn.relu(Z1)\n",
    "    P1 = tf.nn.max_pool(A1, ksize=[1,8,8,1],strides=[1,8,8,1],padding='SAME')\n",
    "    \n",
    "    Z2 = tf.nn.conv2d(P1, W2, strides=[1,1,1,1], padding='SAME')\n",
    "    A2 = tf.nn.relu(Z2)\n",
    "    P2 = tf.nn.max_pool(A2, ksize=[1,4,4,1], strides=[1,4,4,1], padding='SAME')\n",
    "    \n",
    "    P2 = tf.contrib.layers.flatten(P2)\n",
    "    \n",
    "    Z3 = tf.contrib.layers.fully_connected(P2,6,activation_fn=None)\n",
    "    \n",
    "    return Z3"
   ]
  },
  {
   "cell_type": "code",
   "execution_count": 8,
   "metadata": {},
   "outputs": [
    {
     "name": "stdout",
     "output_type": "stream",
     "text": [
      "WARNING:tensorflow:From /Users/baptisteaubert/Environments/Py3_Deep_Learning/lib/python3.6/site-packages/tensorflow/contrib/learn/python/learn/datasets/base.py:198: retry (from tensorflow.contrib.learn.python.learn.datasets.base) is deprecated and will be removed in a future version.\n",
      "Instructions for updating:\n",
      "Use the retry module or similar alternatives.\n",
      "Z3 = [[-3.7402914  3.20771   -1.7149506 -3.9258177  3.3564067 -2.3765244]\n",
      " [-3.7854886  2.8713443 -2.0959346 -3.8125918  3.347665  -2.2599669]]\n"
     ]
    }
   ],
   "source": [
    "tf.reset_default_graph()\n",
    "\n",
    "with tf.Session() as session:\n",
    "    X, Y = create_placeholders(64,64,3,6)\n",
    "    parameters = initialize_parameters()\n",
    "    Z3 = forward_propagation(X,parameters)\n",
    "    init = tf.global_variables_initializer()\n",
    "    session.run(init)\n",
    "    np.random.seed(1)\n",
    "    a = session.run(Z3, {X:np.random.randn(2,64,64,3)})\n",
    "\n",
    "    print(\"Z3 = \" + str(a))\n"
   ]
  },
  {
   "cell_type": "code",
   "execution_count": 19,
   "metadata": {},
   "outputs": [],
   "source": [
    "def compute_cost(Z3,Y):\n",
    "    cost = tf.nn.softmax_cross_entropy_with_logits(logits = Z3, labels = Y)\n",
    "    cost = tf.reduce_mean(cost)\n",
    "    ### END CODE HERE ###\n",
    "    \n",
    "    return cost"
   ]
  },
  {
   "cell_type": "code",
   "execution_count": 52,
   "metadata": {},
   "outputs": [
    {
     "name": "stdout",
     "output_type": "stream",
     "text": [
      "cost = 0.2037623\n"
     ]
    }
   ],
   "source": [
    "tf.reset_default_graph()\n",
    "\n",
    "with tf.Session() as session:\n",
    "    X,Y = create_placeholders(64,64,3,6)\n",
    "    parameters = initialize_parameters()\n",
    "    Z3 = forward_propagation(X,parameters)\n",
    "    cost = compute_cost(Z3,Y)\n",
    "    init = tf.global_variables_initializer()\n",
    "    session.run(init)\n",
    "    a = session.run(cost,{X:np.random.randn(2,64,64,3), Y:np.random.randn(2,6)})\n",
    "    print(\"cost = \" + str(a))"
   ]
  },
  {
   "cell_type": "code",
   "execution_count": null,
   "metadata": {},
   "outputs": [],
   "source": [
    "def model(X_train, Y_train, X_test, Y_test, learning_rate=0.007,\n",
    "         epochs=100,batch=64, print_cost = True):\n",
    "    \n",
    "    ops.reset_default_graph()\n",
    "    tf.set_random_seed(1)\n",
    "    seed = 3\n",
    "    (m, n_Ho, n_Wo, n_C)= X_train.shape\n",
    "    n_y = Y_train.shape[1]\n",
    "    costs = []\n",
    "    \n",
    "    X, Y = create_placeholders(n_Ho, n_Wo, n_C, n_y)\n",
    "    \n",
    "    parameters = initialize_parameters()\n",
    "    \n",
    "    Z3 = forward_propagation(X,parameters)\n",
    "    \n",
    "    cost = compute_cost(Z3,Y)\n",
    "    \n",
    "    optimizer = tf.train.AdamOptimizer(learning_rate=learning_rate).minimize(cost)\n",
    "    \n",
    "    init = tf.global_variables_initializer()\n",
    "    \n",
    "    with tf.Session() as session:\n",
    "        \n",
    "        session.run(init)\n",
    "        \n",
    "        for epoch in range(epochs):\n",
    "            \n",
    "            minibatch_cost = 0 \n",
    "            num_minibatch = int(m / batch) \n",
    "            seed = seed + 1 \n",
    "            minibatches = random_mini_batches(X_train,Y_train, num_minibatch,seed)\n",
    "            \n",
    "            for minibatch in minibatches:\n",
    "                \n",
    "                (minibatch_X, minibatch_Y) = minibatch\n",
    "                _, temp_cost = session.run([optimizer, cost],feed_dict={X: minibatch_X, Y: minibatch_Y})\n",
    "\n",
    "                minibatch_cost += temp_cost /num_minibatch\n",
    "\n",
    "\n",
    "            if print_cost == True and epoch % 5 == 0:\n",
    "                print(\"cost after epoch %i: %f\" % (epoch, minibatch_cost))\n",
    "            if print_cost == True and epoch %1 == 0:\n",
    "                costs.append(minibatch_cost)\n",
    "            \n",
    "        #Plotting the results \n",
    "        plt.plot(costs)\n",
    "        plt.ylabel('cost')\n",
    "        plt.xlabel('epochs')\n",
    "        plt.title('learning rate = %f' % (learning_rate))\n",
    "        \n",
    "        # Calculate the correct predictions\n",
    "        predict_op = tf.argmax(Z3, 1)\n",
    "        correct_prediction = tf.equal(predict_op, tf.argmax(Y, 1))\n",
    "        \n",
    "        # Calculate accuracy on the test set\n",
    "        accuracy = tf.reduce_mean(tf.cast(correct_prediction, \"float\"))\n",
    "        print(accuracy)\n",
    "        train_accuracy = accuracy.eval({X: X_train, Y: Y_train})\n",
    "        test_accuracy = accuracy.eval({X: X_test, Y: Y_test})\n",
    "        print(\"Train Accuracy:\", train_accuracy)\n",
    "        print(\"Test Accuracy:\", test_accuracy)\n",
    "                \n",
    "        return train_accuracy, test_accuracy, parameters\n",
    "        \n",
    "        "
   ]
  },
  {
   "cell_type": "code",
   "execution_count": 29,
   "metadata": {},
   "outputs": [
    {
     "name": "stdout",
     "output_type": "stream",
     "text": [
      "Cost after epoch 0: 1.906801\n",
      "Cost after epoch 5: 1.503554\n",
      "Cost after epoch 10: 1.136916\n",
      "Cost after epoch 15: 0.919234\n",
      "Cost after epoch 20: 0.803267\n",
      "Cost after epoch 25: 0.737653\n",
      "Cost after epoch 30: 0.682042\n",
      "Cost after epoch 35: 0.635379\n",
      "Cost after epoch 40: 0.620275\n",
      "Cost after epoch 45: 0.571671\n",
      "Cost after epoch 50: 0.570806\n",
      "Cost after epoch 55: 0.500575\n",
      "Cost after epoch 60: 0.480497\n",
      "Cost after epoch 65: 0.470267\n",
      "Cost after epoch 70: 0.504306\n",
      "Cost after epoch 75: 0.474972\n",
      "Cost after epoch 80: 0.428957\n",
      "Cost after epoch 85: 0.414998\n",
      "Cost after epoch 90: 0.429931\n",
      "Cost after epoch 95: 0.417533\n"
     ]
    },
    {
     "data": {
      "image/png": "[encoded data removed]",
      "text/plain": [
       "<Figure size 432x288 with 1 Axes>"
      ]
     },
     "metadata": {},
     "output_type": "display_data"
    },
    {
     "name": "stdout",
     "output_type": "stream",
     "text": [
      "Tensor(\"Mean_1:0\", shape=(), dtype=float32)\n",
      "Train Accuracy: 0.8925926\n",
      "Test Accuracy: 0.7916667\n"
     ]
    }
   ],
   "source": [
    "_, _, parameters = model(X_train, Y_train, X_test, Y_test)\n"
   ]
  },
  {
   "cell_type": "code",
   "execution_count": null,
   "metadata": {},
   "outputs": [],
   "source": []
  }
 ],
 "metadata": {
  "coursera": {
   "course_slug": "convolutional-neural-networks",
   "graded_item_id": "bwbJV",
   "launcher_item_id": "0TkXB"
  },
  "kernelspec": {
   "display_name": "Py3_Deep_Learning",
   "language": "python",
   "name": "py3_deep_learning"
  },
  "language_info": {
   "codemirror_mode": {
    "name": "ipython",
    "version": 3
   },
   "file_extension": ".py",
   "mimetype": "text/x-python",
   "name": "python",
   "nbconvert_exporter": "python",
   "pygments_lexer": "ipython3",
   "version": "3.6.5"
  }
 },
 "nbformat": 4,
 "nbformat_minor": 1
}
